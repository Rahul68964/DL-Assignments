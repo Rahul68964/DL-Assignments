{
 "cells": [
  {
   "cell_type": "code",
   "execution_count": null,
   "id": "a0695e80",
   "metadata": {},
   "outputs": [],
   "source": [
    "import cv2\n",
    "import numpy as np\n",
    "from tensorflow.keras.models import Sequential\n",
    "from tensorflow.keras.layers import Conv2D, MaxPooling2D, Flatten, Dense\n",
    "from tensorflow.keras.preprocessing.image import ImageDataGenerator\n",
    "from google.colab import drive\n",
    "drive.mount('/content/drive')"
   ]
  },
  {
   "cell_type": "code",
   "execution_count": null,
   "id": "6caefe54",
   "metadata": {},
   "outputs": [],
   "source": [
    "face_cascade = cv2.CascadeClassifier(cv2.data.haarcascades + 'haarcascade_frontalface_default.xml')\n",
    "\n",
    "model = Sequential([\n",
    "    Conv2D(32, (3,3), activation='relu', input_shape=(64,64,3)),\n",
    "    MaxPooling2D(2,2),\n",
    "    Conv2D(64, (3,3), activation='relu'),\n",
    "    MaxPooling2D(2,2),\n",
    "    Flatten(),\n",
    "    Dense(128, activation='relu'),\n",
    "    Dense(1, activation='sigmoid')  \n",
    "])\n",
    "model.compile(optimizer='adam', loss='binary_crossentropy', metrics=['accuracy'])"
   ]
  },
  {
   "cell_type": "code",
   "execution_count": null,
   "id": "8a3ff013",
   "metadata": {},
   "outputs": [],
   "source": [
    "train_datagen = ImageDataGenerator(rescale=1./255, validation_split=0.2)\n",
    "train_generator = train_datagen.flow_from_directory(\n",
    "    '/content/drive/MyDrive/dataset/train',\n",
    "    target_size=(64,64),\n",
    "    batch_size=32,\n",
    "    class_mode='binary',\n",
    "    subset='training')\n",
    "val_generator = train_datagen.flow_from_directory(\n",
    "    '/content/drive/MyDrive/dataset/train',\n",
    "    target_size=(64,64),\n",
    "    batch_size=32,\n",
    "    class_mode='binary',\n",
    "    subset='validation')\n",
    "\n",
    "\n",
    "model.fit(train_generator, validation_data=val_generator, epochs=10)"
   ]
  },
  {
   "cell_type": "code",
   "execution_count": null,
   "id": "74a11209",
   "metadata": {},
   "outputs": [],
   "source": [
    "\n",
    "model.save('/content/drive/MyDrive/face_recognition_model.h5')\n",
    "\n",
    "\n",
    "def test_single_image(image_path, model):\n",
    "    face_cascade = cv2.CascadeClassifier(cv2.data.haarcascades + 'haarcascade_frontalface_default.xml')\n",
    "    \n",
    "    img = cv2.imread(image_path)\n",
    "    if img is None:\n",
    "        print(f\"Error: Could not load image from {image_path}\")\n",
    "        return\n",
    "    \n",
    "    gray = cv2.cvtColor(img, cv2.COLOR_BGR2GRAY)\n",
    "    faces = face_cascade.detectMultiScale(gray, scaleFactor=1.3, minNeighbors=5)\n",
    "    \n",
    "    if len(faces) == 0:\n",
    "        print(\"No faces detected in the image\")\n",
    "        return\n",
    "    \n",
    "    for (x, y, w, h) in faces:\n",
    "        face_img = img[y:y+h, x:x+w]\n",
    "        face_img_resized = cv2.resize(face_img, (64, 64))\n",
    "        face_img_normalized = face_img_resized / 255.0\n",
    "        face_img_input = np.expand_dims(face_img_normalized, axis=0)\n",
    "        \n",
    "        prediction = model.predict(face_img_input)[0][0]\n",
    "        label = \"Authorized\" if prediction > 0.5 else \"Unauthorized\"\n",
    "        confidence = prediction if prediction > 0.5 else (1 - prediction)\n",
    "        \n",
    "        color = (0, 255, 0) if prediction > 0.5 else (0, 0, 255)\n",
    "        cv2.rectangle(img, (x, y), (x+w, y+h), color, 2)\n",
    "        cv2.putText(img, f\"{label} ({confidence:.2f})\", (x, y-10), \n",
    "                    cv2.FONT_HERSHEY_SIMPLEX, 0.8, color, 2)\n",
    "        \n",
    "        print(f\"Prediction: {label}, Confidence: {confidence:.2f}\")\n",
    "    \n",
    "\n",
    "    from google.colab.patches import cv2_imshow\n",
    "    cv2_imshow(img)\n",
    "\n",
    "\n",
    "test_single_image('/content/drive/MyDrive/dataset/train/Authorized/IMG_20250905_153355.jpg', model)\n"
   ]
  }
 ],
 "metadata": {
  "language_info": {
   "name": "python"
  }
 },
 "nbformat": 4,
 "nbformat_minor": 5
}
