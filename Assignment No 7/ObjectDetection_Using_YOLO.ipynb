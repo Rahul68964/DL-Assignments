{
 "cells": [
  {
   "cell_type": "code",
   "execution_count": null,
   "id": "17625dbb",
   "metadata": {},
   "outputs": [],
   "source": [
    "!pip install ultralytics\n",
    "\n",
    "from ultralytics import YOLO\n",
    "import cv2\n",
    "import matplotlib.pyplot as plt\n",
    "from google.colab import files\n",
    "\n",
    "\n",
    "model = YOLO('yolov8n.pt') \n",
    "\n",
    "\n",
    "uploaded = files.upload()\n",
    "image_name = list(uploaded.keys())[0]\n",
    "\n",
    "results = model(image_name)\n",
    "\n",
    "\n",
    "results[0].show() \n",
    "\n",
    "for result in results:\n",
    "    boxes = result.boxes\n",
    "    if boxes is not None:\n",
    "        for box in boxes:\n",
    "            class_id = int(box.cls[0])\n",
    "            confidence = float(box.conf[0])\n",
    "            class_name = model.names[class_id]\n",
    "            print(f\"Detected: {class_name} (Confidence: {confidence:.2f})\")\n"
   ]
  }
 ],
 "metadata": {
  "language_info": {
   "name": "python"
  }
 },
 "nbformat": 4,
 "nbformat_minor": 5
}
